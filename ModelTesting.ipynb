{
 "cells": [
  {
   "cell_type": "code",
   "execution_count": 3,
   "metadata": {},
   "outputs": [
    {
     "name": "stdout",
     "output_type": "stream",
     "text": [
      "শ\n"
     ]
    }
   ],
   "source": [
    "import cv2\n",
    "import pandas as pd\n",
    "import tensorflow as tf\n",
    "import numpy as np\n",
    "\n",
    "CATEGORIES = [\"অ\",\"আ\",\"ই\",\"ঈ\",\"উ\",\"ঊ\",\"ঋ\",\"এ\",\"ঐ\",\"ও\",\"ঔ\",\"ক\",\"খ\",\"গ\",\"ঘ\",\"ঙ\",\"চ\",\"ছ\",\"জ\",\"ঝ\",\"ঞ\",\"ট\",\"ঠ\",\"ড\",\"ঢ\",\"ণ\",\"ত\",\"থ\",\"দ\",\"ধ\",\"ন\",\"প\",\"ফ\",\"ব\",\"ভ\",\"ম\",\"য\",\"র\",\"ল\",\"শ\",\"ষ\",\"স\",\"হ\",\"ড়\",\"ঢ়\",\"য়\",\"ৎ\",\"ং\",\"ঃ\",\" ‍ঁ\"]\n",
    "\n",
    "\n",
    "def prepare(filepath):\n",
    "    IMG_SIZE = 64 \n",
    "    img_array = cv2.imread(filepath, cv2.IMREAD_GRAYSCALE)\n",
    "    new_array = cv2.resize(img_array, (IMG_SIZE, IMG_SIZE))    \n",
    "    return new_array.reshape(-1, IMG_SIZE, IMG_SIZE, 1)\n",
    "\n",
    "\n",
    "\n",
    "model = tf.keras.models.load_model(\"555x3-CNN.model\")\n",
    "\n",
    "prediction = model.predict([prepare('test.jpg')])\n",
    "\n",
    "\n",
    "\n",
    "# print(prediction)  \n",
    "\n",
    "prediction_index = np.where(prediction[0]==1.0)\n",
    "\n",
    "# print(prediction_index)\n",
    "\n",
    "for index in prediction_index:\n",
    "    if(index):\n",
    "        print(CATEGORIES[int(index)])\n",
    "    else:\n",
    "        print(\"Nothing Detected\")\n",
    "#     print(prediction[0][predictions])\n",
    "\n",
    "\n",
    "\n"
   ]
  },
  {
   "cell_type": "code",
   "execution_count": 4,
   "metadata": {
    "scrolled": true
   },
   "outputs": [
    {
     "name": "stdout",
     "output_type": "stream",
     "text": [
      "Nothing Detected\n"
     ]
    },
    {
     "name": "stderr",
     "output_type": "stream",
     "text": [
      "/home/nayeem/anaconda3/lib/python3.7/site-packages/ipykernel_launcher.py:11: DeprecationWarning: The truth value of an empty array is ambiguous. Returning False, but in future this will result in an error. Use `array.size > 0` to check that an array is not empty.\n",
      "  # This is added back by InteractiveShellApp.init_path()\n"
     ]
    }
   ],
   "source": [
    "prediction = model.predict([prepare('kokho.jpg')])\n",
    "\n",
    "\n",
    "# print(prediction)  \n",
    "\n",
    "prediction_index = np.where(prediction[0]==1.0)\n",
    "\n",
    "# print(prediction_index)\n",
    "\n",
    "for index in prediction_index:\n",
    "    if(index):\n",
    "        print(CATEGORIES[int(index)])\n",
    "    else:\n",
    "        print(\"Nothing Detected\")"
   ]
  },
  {
   "cell_type": "code",
   "execution_count": 6,
   "metadata": {
    "scrolled": false
   },
   "outputs": [
    {
     "name": "stdout",
     "output_type": "stream",
     "text": [
      "ঋ\n"
     ]
    }
   ],
   "source": [
    "prediction = model.predict([prepare('nut.jpg')])\n",
    "\n",
    "\n",
    "# print(prediction)  \n",
    "\n",
    "prediction_index = np.where(prediction[0]==1.0)\n",
    "\n",
    "# print(prediction_index)\n",
    "\n",
    "for index in prediction_index:\n",
    "    if(index):\n",
    "        print(CATEGORIES[int(index)])\n",
    "    else:\n",
    "        print(\"Nothing Detected\")"
   ]
  },
  {
   "cell_type": "code",
   "execution_count": null,
   "metadata": {},
   "outputs": [],
   "source": []
  }
 ],
 "metadata": {
  "kernelspec": {
   "display_name": "Python 3",
   "language": "python",
   "name": "python3"
  },
  "language_info": {
   "codemirror_mode": {
    "name": "ipython",
    "version": 3
   },
   "file_extension": ".py",
   "mimetype": "text/x-python",
   "name": "python",
   "nbconvert_exporter": "python",
   "pygments_lexer": "ipython3",
   "version": "3.7.4"
  }
 },
 "nbformat": 4,
 "nbformat_minor": 2
}
