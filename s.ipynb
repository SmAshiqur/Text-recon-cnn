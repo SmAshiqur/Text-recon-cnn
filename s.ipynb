import numpy as np
import matplotlib.pyplot as plt
import os
import cv2
from tqdm import tqdm



DATADIR = "/home/isthatwaseq/Downloads/BanglaLekha-Isolated/Images/" 

CATEGORIES = [ "1","2","3","4","5" ]

for category in CATEGORIES:
    path = os.path.join(DATADIR,category)
    for img in os.listdir(path):
        img_array= cv2.imread(os.path.join(path,img))
        img_gray= cv2.cvtColor(img_array, cv2.COLOR_BGR2GRAY)
        (thresh, img_bw) = cv2.threshold(img_gray, 128, 255, cv2.THRESH_BINARY | cv2.THRESH_OTSU)
        img_bw = cv2.threshold(img_gray, thresh, 1, cv2.THRESH_BINARY)[1]
#         img_bw = cv2.threshold(img_gray, 222, 255, cv2.THRESH_BINARY)
        plt.imshow(img_bw, cmap='gray')
        plt.show()
        
        break
    break    


print(img_bw)

for row in img_bw: 
    for item in row: 
        print('%3d ' % item, end="") 
print() 
